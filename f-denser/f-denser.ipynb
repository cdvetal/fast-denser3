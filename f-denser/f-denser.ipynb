{
 "cells": [
  {
   "cell_type": "code",
   "execution_count": 1,
   "metadata": {},
   "outputs": [
    {
     "name": "stderr",
     "output_type": "stream",
     "text": [
      "Using TensorFlow backend.\n"
     ]
    }
   ],
   "source": [
    "import fast_denser"
   ]
  },
  {
   "cell_type": "code",
   "execution_count": 2,
   "metadata": {},
   "outputs": [
    {
     "name": "stdout",
     "output_type": "stream",
     "text": [
      "[0] Creating the initial population\n",
      "[0] Performing generation: 0\n",
      "[0] Best fitness of generation 0: 0.651143\n",
      "[0] Best overall fitness: 0.651143\n",
      "[0] Performing generation: 1\n",
      "[0] Best fitness of generation 1: 0.678286\n",
      "[0] Best overall fitness: 0.678286\n",
      "[0] Performing generation: 2\n",
      "[0] Best fitness of generation 2: 0.690571\n",
      "[0] Best overall fitness: 0.690571\n",
      "[0] Performing generation: 3\n",
      "[0] Best fitness of generation 3: 0.694000\n",
      "[0] Best overall fitness: 0.694000\n",
      "[0] Performing generation: 4\n",
      "[0] Best fitness of generation 4: 0.693714\n",
      "[0] Best overall fitness: 0.694000\n",
      "[0] Best test accuracy: 0.691300\n"
     ]
    }
   ],
   "source": [
    "fast_denser.search(0, 'fashion-mnist', '../example/config.json', '../example/cnn.grammar')"
   ]
  },
  {
   "cell_type": "code",
   "execution_count": 3,
   "metadata": {},
   "outputs": [],
   "source": [
    "from pickle import load\n",
    "\n",
    "with open('experiments/run_0/evaluator.pkl', 'rb') as f_data:\n",
    "    evaluator = load(f_data)\n",
    "    x_test = evaluator.dataset['x_test']\n",
    "    y_test = evaluator.dataset['y_test']"
   ]
  },
  {
   "cell_type": "code",
   "execution_count": 4,
   "metadata": {},
   "outputs": [
    {
     "name": "stdout",
     "output_type": "stream",
     "text": [
      "Model: \"model_1\"\n",
      "_________________________________________________________________\n",
      "Layer (type)                 Output Shape              Param #   \n",
      "=================================================================\n",
      "input_1 (InputLayer)         (None, 32, 32, 3)         0         \n",
      "_________________________________________________________________\n",
      "average_pooling2d_1 (Average (None, 10, 10, 3)         0         \n",
      "_________________________________________________________________\n",
      "conv2d_1 (Conv2D)            (None, 4, 4, 209)         10241     \n",
      "_________________________________________________________________\n",
      "dropout_1 (Dropout)          (None, 4, 4, 209)         0         \n",
      "_________________________________________________________________\n",
      "flatten_1 (Flatten)          (None, 3344)              0         \n",
      "_________________________________________________________________\n",
      "dense_1 (Dense)              (None, 10)                33450     \n",
      "=================================================================\n",
      "Total params: 43,691\n",
      "Trainable params: 43,691\n",
      "Non-trainable params: 0\n",
      "_________________________________________________________________\n"
     ]
    }
   ],
   "source": [
    "from keras.models import load_model\n",
    "from keras.preprocessing.image import ImageDataGenerator\n",
    "\n",
    "model = load_model('experiments/run_0/best.h5')\n",
    "datagen_test =  ImageDataGenerator(rescale=1/255.0)\n",
    "\n",
    "model.summary()"
   ]
  },
  {
   "cell_type": "code",
   "execution_count": 5,
   "metadata": {},
   "outputs": [
    {
     "name": "stdout",
     "output_type": "stream",
     "text": [
      "100/100 [==============================] - 0s 4ms/step\n"
     ]
    },
    {
     "data": {
      "text/plain": [
       "0.6913"
      ]
     },
     "execution_count": 5,
     "metadata": {},
     "output_type": "execute_result"
    }
   ],
   "source": [
    "import numpy as np\n",
    "from sklearn.metrics import accuracy_score\n",
    "\n",
    "y_pred_test = model.predict(datagen_test.flow(x_test, batch_size=100, shuffle=False), steps=x_test.shape[0]//100, verbose=1)\n",
    "y_pred_labels = np.argmax(y_pred_test, axis=1)\n",
    "\n",
    "accuracy_score(y_test, y_pred_labels)"
   ]
  }
 ],
 "metadata": {
  "kernelspec": {
   "display_name": "definedcrowd",
   "language": "python",
   "name": "definedcrowd"
  },
  "language_info": {
   "codemirror_mode": {
    "name": "ipython",
    "version": 3
   },
   "file_extension": ".py",
   "mimetype": "text/x-python",
   "name": "python",
   "nbconvert_exporter": "python",
   "pygments_lexer": "ipython3",
   "version": "3.7.4"
  }
 },
 "nbformat": 4,
 "nbformat_minor": 4
}
